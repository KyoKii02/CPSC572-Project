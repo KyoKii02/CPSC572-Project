{
 "cells": [
  {
   "cell_type": "code",
   "execution_count": 6,
   "metadata": {},
   "outputs": [],
   "source": [
    "import community as community_louvain\n",
    "import matplotlib.pyplot as plt\n",
    "import networkx as nx\n",
    "import numpy as np\n",
    "import time\n",
    "from scipy.cluster.hierarchy import dendrogram, linkage"
   ]
  },
  {
   "cell_type": "code",
   "execution_count": 7,
   "metadata": {},
   "outputs": [],
   "source": [
    "def load_graph(graph_file):\n",
    "    print(f\"Loading graph from {graph_file}...\")\n",
    "    start_time = time.time()\n",
    "    \n",
    "    # Load the graph\n",
    "    G = nx.read_graphml(graph_file)\n",
    "    \n",
    "    # Convert position strings back into lists of integers\n",
    "    for node in G.nodes:\n",
    "        pos_str = G.nodes[node].get('pos', '')  # Use .get to avoid KeyError if 'pos' does not exist\n",
    "        if pos_str:  # Check if the position string is not empty\n",
    "            G.nodes[node]['pos'] = list(map(int, pos_str.split(',')))\n",
    "        else:\n",
    "            G.nodes[node]['pos'] = []\n",
    "\n",
    "    end_time = time.time()\n",
    "    print(f\"Graph loaded in {end_time - start_time:.2f} seconds. It has {G.number_of_nodes()} nodes and {G.number_of_edges()} edges.\")\n",
    "    return G"
   ]
  },
  {
   "cell_type": "code",
   "execution_count": 13,
   "metadata": {},
   "outputs": [],
   "source": [
    "# Function to compute the partition with the Louvain method and build a dendrogram\n",
    "def louvain_hierarchy(G):\n",
    "    # Compute the initial partition\n",
    "    partition = community_louvain.best_partition(G)\n",
    "    dendro = [partition]\n",
    "\n",
    "    # Build the hierarchy by iteratively applying Louvain method\n",
    "    current_partition = partition.copy()\n",
    "    level = 0\n",
    "    while len(set(new_partition.values())) > 50:\n",
    "        level += 1\n",
    "        # Build the induced graph from the current partition\n",
    "        induced_graph = community_louvain.induced_graph(current_partition, G)\n",
    "        # Compute the new partition on the induced graph\n",
    "        new_partition = community_louvain.best_partition(induced_graph)\n",
    "\n",
    "        # Map partition from the induced graph back to the original graph\n",
    "        for node, community in current_partition.items():\n",
    "            current_partition[node] = new_partition[community]\n",
    "\n",
    "        dendro.append(current_partition.copy())\n",
    "\n",
    "    return dendro\n",
    "\n",
    "# Convert the hierarchical partitioning into a format suitable for scipy's dendrogram function\n",
    "def convert_to_scipy_dendrogram_format(dendro):\n",
    "    # Flatten the dendrogram structure\n",
    "    flat_dendro = {node: level for level, partition in enumerate(dendro) for node, community in partition.items()}\n",
    "    \n",
    "    # Create linkage matrix\n",
    "    unique_levels = np.unique(list(flat_dendro.values()))\n",
    "    linkage_matrix = []\n",
    "    for i in range(len(unique_levels)-1):\n",
    "        linkage_matrix.append([unique_levels[i], unique_levels[i+1], 1, 1]) # dummy values for distance and sample count\n",
    "    \n",
    "    return np.array(linkage_matrix)\n"
   ]
  },
  {
   "cell_type": "code",
   "execution_count": 10,
   "metadata": {},
   "outputs": [
    {
     "name": "stdout",
     "output_type": "stream",
     "text": [
      "Loading graph from spotify_AugWeek1.graphml...\n",
      "Graph loaded in 5.08 seconds. It has 5420 nodes and 114579 edges.\n"
     ]
    }
   ],
   "source": [
    "G = load_graph(\"spotify_AugWeek1.graphml\")"
   ]
  },
  {
   "cell_type": "code",
   "execution_count": 14,
   "metadata": {},
   "outputs": [
    {
     "ename": "KeyboardInterrupt",
     "evalue": "",
     "output_type": "error",
     "traceback": [
      "\u001b[1;31m---------------------------------------------------------------------------\u001b[0m",
      "\u001b[1;31mKeyboardInterrupt\u001b[0m                         Traceback (most recent call last)",
      "Cell \u001b[1;32mIn[14], line 1\u001b[0m\n\u001b[1;32m----> 1\u001b[0m dendro \u001b[38;5;241m=\u001b[39m \u001b[43mlouvain_hierarchy\u001b[49m\u001b[43m(\u001b[49m\u001b[43mG\u001b[49m\u001b[43m)\u001b[49m\n",
      "Cell \u001b[1;32mIn[13], line 13\u001b[0m, in \u001b[0;36mlouvain_hierarchy\u001b[1;34m(G)\u001b[0m\n\u001b[0;32m     11\u001b[0m level \u001b[38;5;241m+\u001b[39m\u001b[38;5;241m=\u001b[39m \u001b[38;5;241m1\u001b[39m\n\u001b[0;32m     12\u001b[0m \u001b[38;5;66;03m# Build the induced graph from the current partition\u001b[39;00m\n\u001b[1;32m---> 13\u001b[0m induced_graph \u001b[38;5;241m=\u001b[39m \u001b[43mcommunity_louvain\u001b[49m\u001b[38;5;241;43m.\u001b[39;49m\u001b[43minduced_graph\u001b[49m\u001b[43m(\u001b[49m\u001b[43mcurrent_partition\u001b[49m\u001b[43m,\u001b[49m\u001b[43m \u001b[49m\u001b[43mG\u001b[49m\u001b[43m)\u001b[49m\n\u001b[0;32m     14\u001b[0m \u001b[38;5;66;03m# Compute the new partition on the induced graph\u001b[39;00m\n\u001b[0;32m     15\u001b[0m new_partition \u001b[38;5;241m=\u001b[39m community_louvain\u001b[38;5;241m.\u001b[39mbest_partition(induced_graph)\n",
      "File \u001b[1;32mc:\\Users\\gusta\\miniconda3\\envs\\gus\\Lib\\site-packages\\community\\community_louvain.py:415\u001b[0m, in \u001b[0;36minduced_graph\u001b[1;34m(partition, graph, weight)\u001b[0m\n\u001b[0;32m    413\u001b[0m     com1 \u001b[38;5;241m=\u001b[39m partition[node1]\n\u001b[0;32m    414\u001b[0m     com2 \u001b[38;5;241m=\u001b[39m partition[node2]\n\u001b[1;32m--> 415\u001b[0m     w_prec \u001b[38;5;241m=\u001b[39m \u001b[43mret\u001b[49m\u001b[38;5;241;43m.\u001b[39;49m\u001b[43mget_edge_data\u001b[49m\u001b[43m(\u001b[49m\u001b[43mcom1\u001b[49m\u001b[43m,\u001b[49m\u001b[43m \u001b[49m\u001b[43mcom2\u001b[49m\u001b[43m,\u001b[49m\u001b[43m \u001b[49m\u001b[43m{\u001b[49m\u001b[43mweight\u001b[49m\u001b[43m:\u001b[49m\u001b[43m \u001b[49m\u001b[38;5;241;43m0\u001b[39;49m\u001b[43m}\u001b[49m\u001b[43m)\u001b[49m\u001b[38;5;241;43m.\u001b[39;49m\u001b[43mget\u001b[49m\u001b[43m(\u001b[49m\u001b[43mweight\u001b[49m\u001b[43m,\u001b[49m\u001b[43m \u001b[49m\u001b[38;5;241;43m1\u001b[39;49m\u001b[43m)\u001b[49m\n\u001b[0;32m    416\u001b[0m     ret\u001b[38;5;241m.\u001b[39madd_edge(com1, com2, \u001b[38;5;241m*\u001b[39m\u001b[38;5;241m*\u001b[39m{weight: w_prec \u001b[38;5;241m+\u001b[39m edge_weight})\n\u001b[0;32m    418\u001b[0m \u001b[38;5;28;01mreturn\u001b[39;00m ret\n",
      "\u001b[1;31mKeyboardInterrupt\u001b[0m: "
     ]
    }
   ],
   "source": [
    "dendro = louvain_hierarchy(G)"
   ]
  },
  {
   "cell_type": "markdown",
   "metadata": {},
   "source": [
    "This approach to creating a dendrogram is illustrative and simplifies the process for demonstration purposes. The dendrogram generated here does not convey the exact hierarchical clustering in a traditional sense but rather shows the hierarchy of communities merged at each level of the Louvain method's application."
   ]
  },
  {
   "cell_type": "code",
   "execution_count": 15,
   "metadata": {},
   "outputs": [
    {
     "ename": "NameError",
     "evalue": "name 'dendro' is not defined",
     "output_type": "error",
     "traceback": [
      "\u001b[1;31m---------------------------------------------------------------------------\u001b[0m",
      "\u001b[1;31mNameError\u001b[0m                                 Traceback (most recent call last)",
      "Cell \u001b[1;32mIn[15], line 2\u001b[0m\n\u001b[0;32m      1\u001b[0m \u001b[38;5;66;03m# Generate the linkage matrix and plot the dendrogram\u001b[39;00m\n\u001b[1;32m----> 2\u001b[0m linkage_matrix \u001b[38;5;241m=\u001b[39m convert_to_scipy_dendrogram_format(\u001b[43mdendro\u001b[49m)\n\u001b[0;32m      3\u001b[0m dendrogram(linkage_matrix)\n\u001b[0;32m      4\u001b[0m plt\u001b[38;5;241m.\u001b[39mtitle(\u001b[38;5;124m'\u001b[39m\u001b[38;5;124mCommunity Hierarchical Dendrogram\u001b[39m\u001b[38;5;124m'\u001b[39m)\n",
      "\u001b[1;31mNameError\u001b[0m: name 'dendro' is not defined"
     ]
    }
   ],
   "source": [
    "# Generate the linkage matrix and plot the dendrogram\n",
    "linkage_matrix = convert_to_scipy_dendrogram_format(dendro)\n",
    "dendrogram(linkage_matrix)\n",
    "plt.title('Community Hierarchical Dendrogram')\n",
    "plt.show()"
   ]
  }
 ],
 "metadata": {
  "kernelspec": {
   "display_name": "gus",
   "language": "python",
   "name": "python3"
  },
  "language_info": {
   "codemirror_mode": {
    "name": "ipython",
    "version": 3
   },
   "file_extension": ".py",
   "mimetype": "text/x-python",
   "name": "python",
   "nbconvert_exporter": "python",
   "pygments_lexer": "ipython3",
   "version": "3.12.1"
  }
 },
 "nbformat": 4,
 "nbformat_minor": 2
}
