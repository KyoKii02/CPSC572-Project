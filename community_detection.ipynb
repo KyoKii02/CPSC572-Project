{
 "cells": [
  {
   "cell_type": "code",
   "execution_count": 2,
   "metadata": {},
   "outputs": [],
   "source": [
    "import networkx as nx\n",
    "import matplotlib.pyplot as plt\n",
    "import time\n",
    "from scipy.cluster.hierarchy import dendrogram, linkage\n",
    "import numpy as np"
   ]
  },
  {
   "cell_type": "code",
   "execution_count": 19,
   "metadata": {},
   "outputs": [],
   "source": [
    "def load_graph(graph_file):\n",
    "    print(f\"Loading graph from {graph_file}...\")\n",
    "    start_time = time.time()\n",
    "    \n",
    "    # Load the graph\n",
    "    G = nx.read_graphml(graph_file)\n",
    "    \n",
    "    # Convert position strings back into lists of integers\n",
    "    for node in G.nodes:\n",
    "        pos_str = G.nodes[node].get('pos', '')  # Use .get to avoid KeyError if 'pos' does not exist\n",
    "        if pos_str:  # Check if the position string is not empty\n",
    "            G.nodes[node]['pos'] = list(map(int, pos_str.split(',')))\n",
    "        else:\n",
    "            G.nodes[node]['pos'] = []\n",
    "\n",
    "    end_time = time.time()\n",
    "    print(f\"Graph loaded in {end_time - start_time:.2f} seconds. It has {G.number_of_nodes()} nodes and {G.number_of_edges()} edges.\")\n",
    "    return G"
   ]
  },
  {
   "cell_type": "code",
   "execution_count": 20,
   "metadata": {},
   "outputs": [
    {
     "name": "stdout",
     "output_type": "stream",
     "text": [
      "Loading graph from spotify_AugWeek1.graphml...\n",
      "Graph loaded in 4.47 seconds. It has 5904 nodes and 166934 edges.\n"
     ]
    }
   ],
   "source": [
    "G = load_graph(\"spotify_AugWeek1.graphml\")"
   ]
  },
  {
   "cell_type": "code",
   "execution_count": 5,
   "metadata": {},
   "outputs": [],
   "source": [
    "def girvan_newman_with_tracking(G):\n",
    "    G_copy = G.copy()\n",
    "    clusters = {node: [node] for node in G.nodes()}  # Track nodes in clusters\n",
    "    while G_copy.number_of_edges() > 0:\n",
    "        centrality = nx.edge_betweenness_centrality(G_copy)\n",
    "        max_cent = max(centrality, key=centrality.get)\n",
    "        G_copy.remove_edge(*max_cent)\n",
    "        components = list(nx.connected_components(G_copy))\n",
    "        new_clusters = {}\n",
    "        for comp in components:\n",
    "            new_cluster = []\n",
    "            for node in comp:\n",
    "                new_cluster.extend(clusters.pop(node))\n",
    "            for node in new_cluster:\n",
    "                new_clusters[node] = new_cluster\n",
    "        clusters = new_clusters\n",
    "        yield clusters"
   ]
  },
  {
   "cell_type": "code",
   "execution_count": 6,
   "metadata": {},
   "outputs": [],
   "source": [
    "def create_linkage_matrix(G):\n",
    "    gen = girvan_newman_with_tracking(G)\n",
    "    cluster_list = list(gen)  # Get list of clustering steps\n",
    "    n = G.number_of_nodes()\n",
    "    linkage_matrix = np.zeros((n-1, 4))\n",
    "    current_cluster_label = -1\n",
    "    node_to_cluster = {node: node for node in G.nodes()}\n",
    "    for i, clusters in enumerate(cluster_list[:-1]):  # Last one is all separate, ignore\n",
    "        merged = set()\n",
    "        for cluster in clusters.values():\n",
    "            if len(cluster) > len(merged):\n",
    "                merged = set(cluster)\n",
    "        for node in merged:\n",
    "            old_cluster = node_to_cluster[node]\n",
    "            linkage_matrix[i, 0] = old_cluster\n",
    "            linkage_matrix[i, 1] = current_cluster_label\n",
    "            node_to_cluster[node] = current_cluster_label\n",
    "        linkage_matrix[i, 2] = i + 1  # Incremental distance\n",
    "        linkage_matrix[i, 3] = len(merged)  # Cluster size\n",
    "        current_cluster_label -= 1\n",
    "    linkage_matrix[:, 0:2] = np.sort(linkage_matrix[:, 0:2], axis=1)  # Sort indices for scipy\n",
    "    return linkage_matrix"
   ]
  },
  {
   "cell_type": "code",
   "execution_count": 21,
   "metadata": {},
   "outputs": [
    {
     "ename": "KeyboardInterrupt",
     "evalue": "",
     "output_type": "error",
     "traceback": [
      "\u001b[1;31m---------------------------------------------------------------------------\u001b[0m",
      "\u001b[1;31mKeyboardInterrupt\u001b[0m                         Traceback (most recent call last)",
      "Cell \u001b[1;32mIn[21], line 1\u001b[0m\n\u001b[1;32m----> 1\u001b[0m linkage_matrix \u001b[38;5;241m=\u001b[39m \u001b[43mcreate_linkage_matrix\u001b[49m\u001b[43m(\u001b[49m\u001b[43mG\u001b[49m\u001b[43m)\u001b[49m\n\u001b[0;32m      3\u001b[0m \u001b[38;5;66;03m# Plotting the dendrogram\u001b[39;00m\n\u001b[0;32m      4\u001b[0m plt\u001b[38;5;241m.\u001b[39mfigure(figsize\u001b[38;5;241m=\u001b[39m(\u001b[38;5;241m10\u001b[39m, \u001b[38;5;241m7\u001b[39m))\n",
      "Cell \u001b[1;32mIn[6], line 3\u001b[0m, in \u001b[0;36mcreate_linkage_matrix\u001b[1;34m(G)\u001b[0m\n\u001b[0;32m      1\u001b[0m \u001b[38;5;28;01mdef\u001b[39;00m \u001b[38;5;21mcreate_linkage_matrix\u001b[39m(G):\n\u001b[0;32m      2\u001b[0m     gen \u001b[38;5;241m=\u001b[39m girvan_newman_with_tracking(G)\n\u001b[1;32m----> 3\u001b[0m     cluster_list \u001b[38;5;241m=\u001b[39m \u001b[38;5;28;43mlist\u001b[39;49m\u001b[43m(\u001b[49m\u001b[43mgen\u001b[49m\u001b[43m)\u001b[49m  \u001b[38;5;66;03m# Get list of clustering steps\u001b[39;00m\n\u001b[0;32m      4\u001b[0m     n \u001b[38;5;241m=\u001b[39m G\u001b[38;5;241m.\u001b[39mnumber_of_nodes()\n\u001b[0;32m      5\u001b[0m     linkage_matrix \u001b[38;5;241m=\u001b[39m np\u001b[38;5;241m.\u001b[39mzeros((n\u001b[38;5;241m-\u001b[39m\u001b[38;5;241m1\u001b[39m, \u001b[38;5;241m4\u001b[39m))\n",
      "Cell \u001b[1;32mIn[5], line 5\u001b[0m, in \u001b[0;36mgirvan_newman_with_tracking\u001b[1;34m(G)\u001b[0m\n\u001b[0;32m      3\u001b[0m clusters \u001b[38;5;241m=\u001b[39m {node: [node] \u001b[38;5;28;01mfor\u001b[39;00m node \u001b[38;5;129;01min\u001b[39;00m G\u001b[38;5;241m.\u001b[39mnodes()}  \u001b[38;5;66;03m# Track nodes in clusters\u001b[39;00m\n\u001b[0;32m      4\u001b[0m \u001b[38;5;28;01mwhile\u001b[39;00m G_copy\u001b[38;5;241m.\u001b[39mnumber_of_edges() \u001b[38;5;241m>\u001b[39m \u001b[38;5;241m0\u001b[39m:\n\u001b[1;32m----> 5\u001b[0m     centrality \u001b[38;5;241m=\u001b[39m \u001b[43mnx\u001b[49m\u001b[38;5;241;43m.\u001b[39;49m\u001b[43medge_betweenness_centrality\u001b[49m\u001b[43m(\u001b[49m\u001b[43mG_copy\u001b[49m\u001b[43m)\u001b[49m\n\u001b[0;32m      6\u001b[0m     max_cent \u001b[38;5;241m=\u001b[39m \u001b[38;5;28mmax\u001b[39m(centrality, key\u001b[38;5;241m=\u001b[39mcentrality\u001b[38;5;241m.\u001b[39mget)\n\u001b[0;32m      7\u001b[0m     G_copy\u001b[38;5;241m.\u001b[39mremove_edge(\u001b[38;5;241m*\u001b[39mmax_cent)\n",
      "File \u001b[1;32mc:\\Users\\gusta\\miniconda3\\envs\\gus\\Lib\\site-packages\\networkx\\classes\\backends.py:148\u001b[0m, in \u001b[0;36m_dispatch.<locals>.wrapper\u001b[1;34m(*args, **kwds)\u001b[0m\n\u001b[0;32m    144\u001b[0m         \u001b[38;5;28;01melse\u001b[39;00m:\n\u001b[0;32m    145\u001b[0m             \u001b[38;5;28;01mraise\u001b[39;00m NetworkXNotImplemented(\n\u001b[0;32m    146\u001b[0m                 \u001b[38;5;124mf\u001b[39m\u001b[38;5;124m\"\u001b[39m\u001b[38;5;124m'\u001b[39m\u001b[38;5;132;01m{\u001b[39;00mname\u001b[38;5;132;01m}\u001b[39;00m\u001b[38;5;124m'\u001b[39m\u001b[38;5;124m not implemented by \u001b[39m\u001b[38;5;132;01m{\u001b[39;00mplugin_name\u001b[38;5;132;01m}\u001b[39;00m\u001b[38;5;124m\"\u001b[39m\n\u001b[0;32m    147\u001b[0m             )\n\u001b[1;32m--> 148\u001b[0m \u001b[38;5;28;01mreturn\u001b[39;00m \u001b[43mfunc\u001b[49m\u001b[43m(\u001b[49m\u001b[38;5;241;43m*\u001b[39;49m\u001b[43margs\u001b[49m\u001b[43m,\u001b[49m\u001b[43m \u001b[49m\u001b[38;5;241;43m*\u001b[39;49m\u001b[38;5;241;43m*\u001b[39;49m\u001b[43mkwds\u001b[49m\u001b[43m)\u001b[49m\n",
      "File \u001b[1;32m<class 'networkx.utils.decorators.argmap'> compilation 13:4\u001b[0m, in \u001b[0;36margmap_edge_betweenness_centrality_10\u001b[1;34m(G, k, normalized, weight, seed)\u001b[0m\n\u001b[0;32m      2\u001b[0m \u001b[38;5;28;01mimport\u001b[39;00m \u001b[38;5;21;01mcollections\u001b[39;00m\n\u001b[0;32m      3\u001b[0m \u001b[38;5;28;01mimport\u001b[39;00m \u001b[38;5;21;01mgzip\u001b[39;00m\n\u001b[1;32m----> 4\u001b[0m \u001b[38;5;28;01mimport\u001b[39;00m \u001b[38;5;21;01minspect\u001b[39;00m\n\u001b[0;32m      5\u001b[0m \u001b[38;5;28;01mimport\u001b[39;00m \u001b[38;5;21;01mitertools\u001b[39;00m\n\u001b[0;32m      6\u001b[0m \u001b[38;5;28;01mimport\u001b[39;00m \u001b[38;5;21;01mre\u001b[39;00m\n",
      "File \u001b[1;32mc:\\Users\\gusta\\miniconda3\\envs\\gus\\Lib\\site-packages\\networkx\\algorithms\\centrality\\betweenness.py:235\u001b[0m, in \u001b[0;36medge_betweenness_centrality\u001b[1;34m(G, k, normalized, weight, seed)\u001b[0m\n\u001b[0;32m    233\u001b[0m         S, P, sigma, _ \u001b[38;5;241m=\u001b[39m _single_source_dijkstra_path_basic(G, s, weight)\n\u001b[0;32m    234\u001b[0m     \u001b[38;5;66;03m# accumulation\u001b[39;00m\n\u001b[1;32m--> 235\u001b[0m     betweenness \u001b[38;5;241m=\u001b[39m \u001b[43m_accumulate_edges\u001b[49m\u001b[43m(\u001b[49m\u001b[43mbetweenness\u001b[49m\u001b[43m,\u001b[49m\u001b[43m \u001b[49m\u001b[43mS\u001b[49m\u001b[43m,\u001b[49m\u001b[43m \u001b[49m\u001b[43mP\u001b[49m\u001b[43m,\u001b[49m\u001b[43m \u001b[49m\u001b[43msigma\u001b[49m\u001b[43m,\u001b[49m\u001b[43m \u001b[49m\u001b[43ms\u001b[49m\u001b[43m)\u001b[49m\n\u001b[0;32m    236\u001b[0m \u001b[38;5;66;03m# rescaling\u001b[39;00m\n\u001b[0;32m    237\u001b[0m \u001b[38;5;28;01mfor\u001b[39;00m n \u001b[38;5;129;01min\u001b[39;00m G:  \u001b[38;5;66;03m# remove nodes to only return edges\u001b[39;00m\n",
      "File \u001b[1;32mc:\\Users\\gusta\\miniconda3\\envs\\gus\\Lib\\site-packages\\networkx\\algorithms\\centrality\\betweenness.py:347\u001b[0m, in \u001b[0;36m_accumulate_edges\u001b[1;34m(betweenness, S, P, sigma, s)\u001b[0m\n\u001b[0;32m    345\u001b[0m     \u001b[38;5;28;01melse\u001b[39;00m:\n\u001b[0;32m    346\u001b[0m         betweenness[(v, w)] \u001b[38;5;241m+\u001b[39m\u001b[38;5;241m=\u001b[39m c\n\u001b[1;32m--> 347\u001b[0m     delta[v] \u001b[38;5;241m+\u001b[39m\u001b[38;5;241m=\u001b[39m c\n\u001b[0;32m    348\u001b[0m \u001b[38;5;28;01mif\u001b[39;00m w \u001b[38;5;241m!=\u001b[39m s:\n\u001b[0;32m    349\u001b[0m     betweenness[w] \u001b[38;5;241m+\u001b[39m\u001b[38;5;241m=\u001b[39m delta[w]\n",
      "\u001b[1;31mKeyboardInterrupt\u001b[0m: "
     ]
    }
   ],
   "source": [
    "linkage_matrix = create_linkage_matrix(G)\n",
    "\n",
    "# Plotting the dendrogram\n",
    "plt.figure(figsize=(10, 7))\n",
    "dendrogram(linkage_matrix, labels=[str(node) for node in G.nodes()])\n",
    "plt.title(\"Dendrogram of Communities Detected via Girvan-Newman Algorithm\")\n",
    "plt.xlabel(\"Node Index\")\n",
    "plt.ylabel(\"Level of Division (simulated distance)\")\n",
    "plt.show()"
   ]
  },
  {
   "cell_type": "code",
   "execution_count": null,
   "metadata": {},
   "outputs": [],
   "source": []
  }
 ],
 "metadata": {
  "kernelspec": {
   "display_name": "gus",
   "language": "python",
   "name": "python3"
  },
  "language_info": {
   "codemirror_mode": {
    "name": "ipython",
    "version": 3
   },
   "file_extension": ".py",
   "mimetype": "text/x-python",
   "name": "python",
   "nbconvert_exporter": "python",
   "pygments_lexer": "ipython3",
   "version": "3.12.1"
  }
 },
 "nbformat": 4,
 "nbformat_minor": 2
}
