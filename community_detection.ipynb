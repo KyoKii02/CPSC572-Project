{
 "cells": [
  {
   "cell_type": "code",
   "execution_count": 7,
   "metadata": {},
   "outputs": [],
   "source": [
    "import networkx as nx\n",
    "import matplotlib.pyplot as plt\n",
    "import time\n",
    "from scipy.cluster.hierarchy import dendrogram, linkage\n",
    "import numpy as np"
   ]
  },
  {
   "cell_type": "code",
   "execution_count": 5,
   "metadata": {},
   "outputs": [],
   "source": [
    "def load_graph(graph_file):\n",
    "    print(f\"Loading graph from {graph_file}...\")\n",
    "    start_time = time.time()\n",
    "    G = nx.read_graphml(graph_file)\n",
    "    end_time = time.time()\n",
    "    print(f\"Graph loaded in {end_time - start_time:.2f} seconds. It has {G.number_of_nodes()} nodes and {G.number_of_edges()} edges.\")\n",
    "    return G"
   ]
  },
  {
   "cell_type": "code",
   "execution_count": 13,
   "metadata": {},
   "outputs": [
    {
     "name": "stdout",
     "output_type": "stream",
     "text": [
      "Loading graph from spotify_AugWeek1.graphml...\n",
      "Graph loaded in 3.31 seconds. It has 2114 nodes and 108718 edges.\n"
     ]
    }
   ],
   "source": [
    "G = load_graph(\"spotify_AugWeek1.graphml\")"
   ]
  },
  {
   "cell_type": "code",
   "execution_count": 14,
   "metadata": {},
   "outputs": [],
   "source": [
    "def girvan_newman_with_tracking(G):\n",
    "    G_copy = G.copy()\n",
    "    clusters = {node: [node] for node in G.nodes()}  # Track nodes in clusters\n",
    "    while G_copy.number_of_edges() > 0:\n",
    "        centrality = nx.edge_betweenness_centrality(G_copy)\n",
    "        max_cent = max(centrality, key=centrality.get)\n",
    "        G_copy.remove_edge(*max_cent)\n",
    "        components = list(nx.connected_components(G_copy))\n",
    "        new_clusters = {}\n",
    "        for comp in components:\n",
    "            new_cluster = []\n",
    "            for node in comp:\n",
    "                new_cluster.extend(clusters.pop(node))\n",
    "            for node in new_cluster:\n",
    "                new_clusters[node] = new_cluster\n",
    "        clusters = new_clusters\n",
    "        yield clusters"
   ]
  },
  {
   "cell_type": "code",
   "execution_count": 15,
   "metadata": {},
   "outputs": [],
   "source": [
    "def create_linkage_matrix(G):\n",
    "    gen = girvan_newman_with_tracking(G)\n",
    "    cluster_list = list(gen)  # Get list of clustering steps\n",
    "    n = G.number_of_nodes()\n",
    "    linkage_matrix = np.zeros((n-1, 4))\n",
    "    current_cluster_label = -1\n",
    "    node_to_cluster = {node: node for node in G.nodes()}\n",
    "    for i, clusters in enumerate(cluster_list[:-1]):  # Last one is all separate, ignore\n",
    "        merged = set()\n",
    "        for cluster in clusters.values():\n",
    "            if len(cluster) > len(merged):\n",
    "                merged = set(cluster)\n",
    "        for node in merged:\n",
    "            old_cluster = node_to_cluster[node]\n",
    "            linkage_matrix[i, 0] = old_cluster\n",
    "            linkage_matrix[i, 1] = current_cluster_label\n",
    "            node_to_cluster[node] = current_cluster_label\n",
    "        linkage_matrix[i, 2] = i + 1  # Incremental distance\n",
    "        linkage_matrix[i, 3] = len(merged)  # Cluster size\n",
    "        current_cluster_label -= 1\n",
    "    linkage_matrix[:, 0:2] = np.sort(linkage_matrix[:, 0:2], axis=1)  # Sort indices for scipy\n",
    "    return linkage_matrix"
   ]
  },
  {
   "cell_type": "code",
   "execution_count": 16,
   "metadata": {},
   "outputs": [
    {
     "ename": "MemoryError",
     "evalue": "",
     "output_type": "error",
     "traceback": [
      "\u001b[1;31m---------------------------------------------------------------------------\u001b[0m",
      "\u001b[1;31mMemoryError\u001b[0m                               Traceback (most recent call last)",
      "Cell \u001b[1;32mIn[16], line 1\u001b[0m\n\u001b[1;32m----> 1\u001b[0m linkage_matrix \u001b[38;5;241m=\u001b[39m \u001b[43mcreate_linkage_matrix\u001b[49m\u001b[43m(\u001b[49m\u001b[43mG\u001b[49m\u001b[43m)\u001b[49m\n\u001b[0;32m      3\u001b[0m \u001b[38;5;66;03m# Plotting the dendrogram\u001b[39;00m\n\u001b[0;32m      4\u001b[0m plt\u001b[38;5;241m.\u001b[39mfigure(figsize\u001b[38;5;241m=\u001b[39m(\u001b[38;5;241m10\u001b[39m, \u001b[38;5;241m7\u001b[39m))\n",
      "Cell \u001b[1;32mIn[15], line 3\u001b[0m, in \u001b[0;36mcreate_linkage_matrix\u001b[1;34m(G)\u001b[0m\n\u001b[0;32m      1\u001b[0m \u001b[38;5;28;01mdef\u001b[39;00m \u001b[38;5;21mcreate_linkage_matrix\u001b[39m(G):\n\u001b[0;32m      2\u001b[0m     gen \u001b[38;5;241m=\u001b[39m girvan_newman_with_tracking(G)\n\u001b[1;32m----> 3\u001b[0m     cluster_list \u001b[38;5;241m=\u001b[39m \u001b[38;5;28;43mlist\u001b[39;49m\u001b[43m(\u001b[49m\u001b[43mgen\u001b[49m\u001b[43m)\u001b[49m  \u001b[38;5;66;03m# Get list of clustering steps\u001b[39;00m\n\u001b[0;32m      4\u001b[0m     n \u001b[38;5;241m=\u001b[39m G\u001b[38;5;241m.\u001b[39mnumber_of_nodes()\n\u001b[0;32m      5\u001b[0m     linkage_matrix \u001b[38;5;241m=\u001b[39m np\u001b[38;5;241m.\u001b[39mzeros((n\u001b[38;5;241m-\u001b[39m\u001b[38;5;241m1\u001b[39m, \u001b[38;5;241m4\u001b[39m))\n",
      "Cell \u001b[1;32mIn[14], line 13\u001b[0m, in \u001b[0;36mgirvan_newman_with_tracking\u001b[1;34m(G)\u001b[0m\n\u001b[0;32m     11\u001b[0m new_cluster \u001b[38;5;241m=\u001b[39m []\n\u001b[0;32m     12\u001b[0m \u001b[38;5;28;01mfor\u001b[39;00m node \u001b[38;5;129;01min\u001b[39;00m comp:\n\u001b[1;32m---> 13\u001b[0m     \u001b[43mnew_cluster\u001b[49m\u001b[38;5;241;43m.\u001b[39;49m\u001b[43mextend\u001b[49m\u001b[43m(\u001b[49m\u001b[43mclusters\u001b[49m\u001b[38;5;241;43m.\u001b[39;49m\u001b[43mpop\u001b[49m\u001b[43m(\u001b[49m\u001b[43mnode\u001b[49m\u001b[43m)\u001b[49m\u001b[43m)\u001b[49m\n\u001b[0;32m     14\u001b[0m \u001b[38;5;28;01mfor\u001b[39;00m node \u001b[38;5;129;01min\u001b[39;00m new_cluster:\n\u001b[0;32m     15\u001b[0m     new_clusters[node] \u001b[38;5;241m=\u001b[39m new_cluster\n",
      "\u001b[1;31mMemoryError\u001b[0m: "
     ]
    }
   ],
   "source": [
    "linkage_matrix = create_linkage_matrix(G)\n",
    "\n",
    "# Plotting the dendrogram\n",
    "plt.figure(figsize=(10, 7))\n",
    "dendrogram(linkage_matrix, labels=[str(node) for node in G.nodes()])\n",
    "plt.title(\"Dendrogram of Communities Detected via Girvan-Newman Algorithm\")\n",
    "plt.xlabel(\"Node Index\")\n",
    "plt.ylabel(\"Level of Division (simulated distance)\")\n",
    "plt.show()"
   ]
  }
 ],
 "metadata": {
  "kernelspec": {
   "display_name": "gus",
   "language": "python",
   "name": "python3"
  },
  "language_info": {
   "codemirror_mode": {
    "name": "ipython",
    "version": 3
   },
   "file_extension": ".py",
   "mimetype": "text/x-python",
   "name": "python",
   "nbconvert_exporter": "python",
   "pygments_lexer": "ipython3",
   "version": "3.12.1"
  }
 },
 "nbformat": 4,
 "nbformat_minor": 2
}
