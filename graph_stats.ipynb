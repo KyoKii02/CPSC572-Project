{
 "cells": [
  {
   "cell_type": "code",
   "execution_count": 5,
   "metadata": {},
   "outputs": [],
   "source": [
    "import numpy as np\n",
    "import networkx as nx\n",
    "import matplotlib.pyplot as plt\n",
    "import matplotlib as mpl\n",
    "import time\n",
    "%matplotlib inline"
   ]
  },
  {
   "cell_type": "code",
   "execution_count": 3,
   "metadata": {},
   "outputs": [],
   "source": [
    "# change defaults to be less ugly\n",
    "mpl.rc('xtick', labelsize=14, color=\"#222222\") \n",
    "mpl.rc('ytick', labelsize=14, color=\"#222222\") \n",
    "mpl.rc('font', **{'family':'sans-serif','sans-serif':['Arial']})\n",
    "mpl.rc('font', size=16)\n",
    "mpl.rc('xtick.major', size=6, width=1)\n",
    "mpl.rc('xtick.minor', size=3, width=1)\n",
    "mpl.rc('ytick.major', size=6, width=1)\n",
    "mpl.rc('ytick.minor', size=3, width=1)\n",
    "mpl.rc('axes', linewidth=1, edgecolor=\"#222222\", labelcolor=\"#222222\")\n",
    "mpl.rc('text', usetex=False, color=\"#222222\")"
   ]
  },
  {
   "cell_type": "code",
   "execution_count": 6,
   "metadata": {},
   "outputs": [],
   "source": [
    "def load_graph(graph_file):\n",
    "    print(f\"Loading graph from {graph_file}...\")\n",
    "    start_time = time.time()\n",
    "    G = nx.read_graphml(graph_file)\n",
    "    end_time = time.time()\n",
    "    print(f\"Graph loaded in {end_time - start_time:.2f} seconds. It has {G.number_of_nodes()} nodes and {G.number_of_edges()} edges.\")\n",
    "    return G"
   ]
  },
  {
   "cell_type": "code",
   "execution_count": 7,
   "metadata": {},
   "outputs": [
    {
     "name": "stdout",
     "output_type": "stream",
     "text": [
      "Loading graph from spotify_graph.graphml...\n",
      "Graph loaded in 284.83 seconds. It has 73426 nodes and 8989885 edges.\n"
     ]
    }
   ],
   "source": [
    "G = load_graph(\"spotify_graph.graphml\")"
   ]
  },
  {
   "cell_type": "code",
   "execution_count": 8,
   "metadata": {},
   "outputs": [
    {
     "name": "stdout",
     "output_type": "stream",
     "text": [
      "Number of nodes:  73426\n",
      "Number of edges:  8989885\n",
      "\n",
      "Average degree:  244.8692561218097\n",
      "Average degree (alternate calculation) 244.8692561218097\n",
      "\n",
      "Minimum degree:  4\n",
      "Maximum degree:  11106\n"
     ]
    }
   ],
   "source": [
    "N = len(G)\n",
    "L = G.size()\n",
    "degrees = [G.degree(node) for node in G]\n",
    "kmin = min(degrees)\n",
    "kmax = max(degrees)\n",
    "\n",
    "print(\"Number of nodes: \", N)\n",
    "print(\"Number of edges: \", L)\n",
    "print()\n",
    "print(\"Average degree: \", 2*L/N)\n",
    "print(\"Average degree (alternate calculation)\", np.mean(degrees))\n",
    "print()\n",
    "print(\"Minimum degree: \", kmin)\n",
    "print(\"Maximum degree: \", kmax)"
   ]
  },
  {
   "cell_type": "code",
   "execution_count": 9,
   "metadata": {},
   "outputs": [],
   "source": [
    "# Logarithmic plotting\n",
    "# Get 10 logarithmically spaced bins between kmin and kmax\n",
    "bin_edges = np.logspace(np.log10(kmin), np.log10(kmax), num=10)\n",
    "\n",
    "# histogram the data into these bins\n",
    "density, _ = np.histogram(degrees, bins=bin_edges, density=True)"
   ]
  },
  {
   "cell_type": "code",
   "execution_count": 10,
   "metadata": {},
   "outputs": [
    {
     "data": {
      "image/png": "[encoded data removed]",
      "text/plain": [
       "<Figure size 600x400 with 1 Axes>"
      ]
     },
     "metadata": {},
     "output_type": "display_data"
    }
   ],
   "source": [
    "fig = plt.figure(figsize=(6,4))\n",
    "\n",
    "# \"x\" should be midpoint (IN LOG SPACE) of each bin\n",
    "log_be = np.log10(bin_edges)\n",
    "x = 10**((log_be[1:] + log_be[:-1])/2)\n",
    "\n",
    "plt.loglog(x, density, marker='o', linestyle='none')\n",
    "plt.xlabel(r\"degree $k$\", fontsize=16)\n",
    "plt.ylabel(r\"$P(k)$\", fontsize=16)\n",
    "\n",
    "# remove right and top boundaries because they're ugly\n",
    "ax = plt.gca()\n",
    "ax.spines['right'].set_visible(False)\n",
    "ax.spines['top'].set_visible(False)\n",
    "ax.yaxis.set_ticks_position('left')\n",
    "ax.xaxis.set_ticks_position('bottom')\n",
    "\n",
    "# Show the plot\n",
    "plt.show()"
   ]
  }
 ],
 "metadata": {
  "kernelspec": {
   "display_name": "gus",
   "language": "python",
   "name": "python3"
  },
  "language_info": {
   "codemirror_mode": {
    "name": "ipython",
    "version": 3
   },
   "file_extension": ".py",
   "mimetype": "text/x-python",
   "name": "python",
   "nbconvert_exporter": "python",
   "pygments_lexer": "ipython3",
   "version": "3.12.1"
  }
 },
 "nbformat": 4,
 "nbformat_minor": 2
}
